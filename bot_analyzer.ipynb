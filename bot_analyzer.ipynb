{
 "cells": [
  {
   "cell_type": "code",
   "execution_count": 7,
   "metadata": {
    "collapsed": true
   },
   "outputs": [],
   "source": [
    "# Dependencies\n",
    "from urllib.parse import quote\n",
    "#import gmplot\n",
    "import requests  \n",
    "import time\n",
    "import re\n",
    "import csv\n",
    "import tweepy\n",
    "import json\n",
    "import pandas as pd\n",
    "import matplotlib\n",
    "matplotlib.use('Agg')\n",
    "import matplotlib.pyplot as plt\n",
    "from itertools import cycle, islice\n",
    "import os\n",
    "import string\n",
    "import datetime\n",
    "import seaborn as sns\n",
    "sns.axes_style('darkgrid')\n",
    "sns.set_style('darkgrid')\n",
    "\n",
    "# Twitter API Keys\n",
    "consumer_key = \"TVWJaZ1J0GNIzrcL6DaTVe92b\"\n",
    "consumer_secret = \"vYMdWen2vtC7UHtftq6CLd0oXI7PtG40eKh1gs2IIeq7mNLTQc\"\n",
    "access_token = \"2280809480-xWf7aW6EdEg84sGeE8DiwACueGpa9DPUDltRFSF\"\n",
    "access_token_secret = \"FbVtjlAUr7LQ6A9DOViaFzp0ISQdEoy1J7zvrEbTekESJ\"\n",
    "\n",
    "# Setup Tweepy API Authentication\n",
    "auth = tweepy.OAuthHandler(consumer_key, consumer_secret)\n",
    "auth.set_access_token(access_token, access_token_secret)\n",
    "api = tweepy.API(auth, parser=tweepy.parsers.JSONParser())"
   ]
  },
  {
   "cell_type": "code",
   "execution_count": 8,
   "metadata": {},
   "outputs": [
    {
     "name": "stdout",
     "output_type": "stream",
     "text": [
      "[1234, 2345]\n"
     ]
    }
   ],
   "source": [
    "df=pd.read_csv('tweet_ids.csv')\n",
    "tweet_list=df.values.flatten().tolist()    \n",
    "print(tweet_list)"
   ]
  },
  {
   "cell_type": "code",
   "execution_count": 9,
   "metadata": {},
   "outputs": [],
   "source": [
    "def analyze_jobs(job_title, request_user):\n",
    "   \n",
    "    #url=\"http://api.glassdoor.com/api/api.htm?t.p=199084&t.k=D3Ee1oQ6L9&userip=10.0.0.133&format=json&v=1&action=jobs-stats&jc=9&l=USA&admLevelRequested=1&returnJobTitles=true&returnCities=true\"\n",
    "    baseUrl = \"http://api.glassdoor.com/api/api.htm?format=json&v=1&action=jobs-stats&l=USA&returnCities=true\"\n",
    "    partnerId = \"199084\"\n",
    "    partnerKey = \"D3Ee1oQ6L9\"\n",
    "    url = baseUrl +\"&t.p=\"+partnerId+\"&t.k=\"+partnerKey +\"&jt=\"+ quote(job_title)\n",
    "    print(url)\n",
    "    \n",
    "    headers = {'user-agent': 'Mozilla/5.0'}\n",
    "    response=requests.get(url ,headers=headers).json()\n",
    "    #print(json.dumps(response,indent=2))\n",
    "    print(len(response[\"response\"][\"cities\"]))\n",
    "\n",
    "    citydata = response[\"response\"]['cities']\n",
    "    citydata_df= pd.DataFrame.from_dict(citydata, orient='columns')\n",
    "   \n",
    "    lats=citydata_df['latitude']\n",
    "    lons=citydata_df['longitude']\n",
    "    \n",
    "    state_name = citydata_df.groupby(['stateName'])\n",
    "    num_jobs = state_name['numJobs'].sum()\n",
    "    job_title='Data Scienst'\n",
    "    colors = list(islice(cycle(['b', 'g', 'y']), None, len(citydata_df)))\n",
    "    gender_chart = num_jobs.plot(kind=\"bar\", title=job_title + \" Jobs by State in USA\", color=colors)\n",
    "    gender_chart.set_xlabel(\"States\")\n",
    "    gender_chart.set_ylabel(\"Number of jobs\")\n",
    "\n",
    "    plt.show()\n",
    "\n",
    "#     #show the center area and map zoom size\n",
    "#     gmap = gmplot.GoogleMapPlotter(37,-95,4)\n",
    "#     #add points to map\n",
    "#     gmap.heatmap(lats, lons)\n",
    "#     #save to map\n",
    "#     sample_file_name = \"mymap.html\"\n",
    "#     gmap.draw(sample_file_name)\n",
    "    \n",
    "    script_dir = os.path.dirname(__file__)\n",
    "    results_dir = os.path.join(script_dir, 'job_analysis/')\n",
    "    file_name = \"tweetout_\" + job_title +\".png\"\n",
    "    \n",
    "    if not os.path.isdir(results_dir):\n",
    "        os.makedirs(results_dir)\n",
    "\n",
    "    plt.savefig(results_dir + file_name)\n",
    "    dt = datetime.datetime.now().strftime('%m/%d/%Y')\n",
    "    api.update_with_media((results_dir+file_name), \\\n",
    "                            \"Job Analysis for \" +  job_title + \\\n",
    "                            \" (\" + dt + \") (Thx @\" + request_user + \"!!!)\")\n",
    "    "
   ]
  },
  {
   "cell_type": "code",
   "execution_count": 10,
   "metadata": {},
   "outputs": [
    {
     "name": "stdout",
     "output_type": "stream",
     "text": [
      "@jingpc job about: Nurse\n",
      "['@jingpc job about', ' Nurse']\n",
      " Nurse\n",
      "katiezhcng\n",
      " Nurse\n",
      "http://api.glassdoor.com/api/api.htm?format=json&v=1&action=jobs-stats&l=USA&returnCities=true&t.p=199084&t.k=D3Ee1oQ6L9&jt=%20Nurse\n",
      "1001\n"
     ]
    },
    {
     "ename": "NameError",
     "evalue": "name '__file__' is not defined",
     "output_type": "error",
     "traceback": [
      "\u001b[1;31m---------------------------------------------------------------------------\u001b[0m",
      "\u001b[1;31mNameError\u001b[0m                                 Traceback (most recent call last)",
      "\u001b[1;32m<ipython-input-10-e7500844bdd4>\u001b[0m in \u001b[0;36m<module>\u001b[1;34m()\u001b[0m\n\u001b[0;32m     28\u001b[0m             \u001b[0mprint\u001b[0m\u001b[1;33m(\u001b[0m\u001b[0mrequest_user\u001b[0m\u001b[1;33m)\u001b[0m\u001b[1;33m\u001b[0m\u001b[0m\n\u001b[0;32m     29\u001b[0m             \u001b[0mprint\u001b[0m\u001b[1;33m(\u001b[0m\u001b[0mjob_title\u001b[0m\u001b[1;33m)\u001b[0m\u001b[1;33m\u001b[0m\u001b[0m\n\u001b[1;32m---> 30\u001b[1;33m             \u001b[0manalyze_jobs\u001b[0m\u001b[1;33m(\u001b[0m\u001b[0mjob_title\u001b[0m\u001b[1;33m,\u001b[0m\u001b[0mrequest_user\u001b[0m\u001b[1;33m)\u001b[0m\u001b[1;33m\u001b[0m\u001b[0m\n\u001b[0m\u001b[0;32m     31\u001b[0m             \u001b[0mmy_df\u001b[0m \u001b[1;33m=\u001b[0m \u001b[0mpd\u001b[0m\u001b[1;33m.\u001b[0m\u001b[0mDataFrame\u001b[0m\u001b[1;33m(\u001b[0m\u001b[0mtweet_list\u001b[0m\u001b[1;33m)\u001b[0m\u001b[1;33m\u001b[0m\u001b[0m\n\u001b[0;32m     32\u001b[0m             \u001b[0mprint\u001b[0m\u001b[1;33m(\u001b[0m\u001b[0mmy_df\u001b[0m\u001b[1;33m)\u001b[0m\u001b[1;33m\u001b[0m\u001b[0m\n",
      "\u001b[1;32m<ipython-input-9-cf2a7c5a60c6>\u001b[0m in \u001b[0;36manalyze_jobs\u001b[1;34m(job_title, request_user)\u001b[0m\n\u001b[0;32m     37\u001b[0m \u001b[1;31m#     gmap.draw(sample_file_name)\u001b[0m\u001b[1;33m\u001b[0m\u001b[1;33m\u001b[0m\u001b[0m\n\u001b[0;32m     38\u001b[0m \u001b[1;33m\u001b[0m\u001b[0m\n\u001b[1;32m---> 39\u001b[1;33m     \u001b[0mscript_dir\u001b[0m \u001b[1;33m=\u001b[0m \u001b[0mos\u001b[0m\u001b[1;33m.\u001b[0m\u001b[0mpath\u001b[0m\u001b[1;33m.\u001b[0m\u001b[0mdirname\u001b[0m\u001b[1;33m(\u001b[0m\u001b[0m__file__\u001b[0m\u001b[1;33m)\u001b[0m\u001b[1;33m\u001b[0m\u001b[0m\n\u001b[0m\u001b[0;32m     40\u001b[0m     \u001b[0mresults_dir\u001b[0m \u001b[1;33m=\u001b[0m \u001b[0mos\u001b[0m\u001b[1;33m.\u001b[0m\u001b[0mpath\u001b[0m\u001b[1;33m.\u001b[0m\u001b[0mjoin\u001b[0m\u001b[1;33m(\u001b[0m\u001b[0mscript_dir\u001b[0m\u001b[1;33m,\u001b[0m \u001b[1;34m'job_analysis/'\u001b[0m\u001b[1;33m)\u001b[0m\u001b[1;33m\u001b[0m\u001b[0m\n\u001b[0;32m     41\u001b[0m     \u001b[0mfile_name\u001b[0m \u001b[1;33m=\u001b[0m \u001b[1;34m\"tweetout_\"\u001b[0m \u001b[1;33m+\u001b[0m \u001b[0mjob_title\u001b[0m \u001b[1;33m+\u001b[0m\u001b[1;34m\".png\"\u001b[0m\u001b[1;33m\u001b[0m\u001b[0m\n",
      "\u001b[1;31mNameError\u001b[0m: name '__file__' is not defined"
     ]
    }
   ],
   "source": [
    "#while(True):\n",
    "counter=0\n",
    "while (counter==0):\n",
    "    #Setup Tweepy API Authentication\n",
    "    auth = tweepy.OAuthHandler(consumer_key, consumer_secret)\n",
    "    auth.set_access_token(access_token, access_token_secret)\n",
    "    api = tweepy.API(auth, parser=tweepy.parsers.JSONParser())\n",
    "    # Target Search Term\n",
    "    target_terms = (\"@jingpc job about:\")\n",
    "    # Variable for holding the oldest tweet\n",
    "    received_tweets = api.search(target_terms, count=100, result_type=\"recent\")\n",
    "    #print(received_tweets)\n",
    "    for tweet in received_tweets[\"statuses\"]:\n",
    "        print(tweet[\"text\"])\n",
    "        if tweet[\"id_str\"] not in tweet_list:\n",
    "            tweet_list.append(tweet[\"id_str\"]) \n",
    "            tweet_text=tweet[\"text\"]\n",
    "            #print(tweet[\"text\"])\n",
    "            tweet_text1=re.split(':', tweet_text)\n",
    "            print(tweet_text1)\n",
    "            try:\n",
    "                print(tweet_text1[1])\n",
    "                job_title=tweet_text1[1]\n",
    "            except:                             \n",
    "                job_title=\"\"\n",
    "                continue                       \n",
    "            request_user=tweet[\"user\"][\"screen_name\"]\n",
    "            print(request_user)\n",
    "            print(job_title)\n",
    "            analyze_jobs(job_title,request_user)                       \n",
    "            my_df = pd.DataFrame(tweet_list)\n",
    "            print(my_df)\n",
    "            my_df.to_csv('tweet_ids.csv', sep='\\t', encoding='utf-8', index=False)\n",
    "            \n",
    "    #print(tweet_list)    \n",
    "    # Once tweeted, wait 180 seconds before doing anything else\n",
    "    #time.sleep(300)\n",
    "    counter +=1\n"
   ]
  },
  {
   "cell_type": "code",
   "execution_count": null,
   "metadata": {
    "collapsed": true
   },
   "outputs": [],
   "source": []
  }
 ],
 "metadata": {
  "kernelspec": {
   "display_name": "Python 3",
   "language": "python",
   "name": "python3"
  },
  "language_info": {
   "codemirror_mode": {
    "name": "ipython",
    "version": 3
   },
   "file_extension": ".py",
   "mimetype": "text/x-python",
   "name": "python",
   "nbconvert_exporter": "python",
   "pygments_lexer": "ipython3",
   "version": "3.6.1"
  }
 },
 "nbformat": 4,
 "nbformat_minor": 2
}
